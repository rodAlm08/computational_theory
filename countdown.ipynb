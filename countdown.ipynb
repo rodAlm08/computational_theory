{
 "cells": [
  {
   "cell_type": "markdown",
   "metadata": {},
   "source": [
    "# Project\n",
    "Rodrigo Almeida - G00377123\n",
    "***"
   ]
  },
  {
   "cell_type": "markdown",
   "metadata": {},
   "source": [
    "# **Understanding Countdown Game Show**"
   ]
  },
  {
   "cell_type": "markdown",
   "metadata": {},
   "source": [
    "The quiz shows \"Des Chiffres et des Lettres\" from France and its British counterpart \"Countdown\" are known for their longevity in the word of television. <br>\n",
    "The French show has been on French television since 1965. The britsh version, with over 8,000 episodes, is on air, on Channel 4 since 2 November 1982. The game show <br>\n",
    "involves mathematical and word tasks. In each episode of the show, two competitors engage in a trio of game types. They start with ten rounds of letter games, <br>\n",
    "where their goal is to form the longest word possible from a set of nine randomly selected letters. This is followed by four rounds focused on numbers, where contestants use arithmetic skills <br>\n",
    "to reach a specific target number using other numbers provided to them. The final challenge is the conundrum, a fast-paced buzzer round, where participants race to unravel a nine-letter anagram."
   ]
  },
  {
   "cell_type": "markdown",
   "metadata": {},
   "source": [
    "## **Gameplay and Structure**\n",
    "- **Mathematical and Word Tasks**: Each episode features a mix of mental agility and vocabulary challenges.\n",
    "\n",
    "### **The Rounds**\n",
    "1. **Letters Rounds (10 rounds)**\n",
    "   - *Objective*: Contestants create the longest word possible.\n",
    "   - *Method*: Use nine randomly selected letters.\n",
    "2. **Numbers Rounds (4 rounds)**\n",
    "   - *Objective*: Achieve a specific target number.\n",
    "   - *Method*: Employ arithmetic skills with provided numbers.\n",
    "3. **Conundrum (Final challenge)**\n",
    "   - *Nature*: A fast-paced buzzer round.\n",
    "   - *Goal*: Solve a nine-letter anagram as quickly as possible.\n",
    "\n",
    "---\n"
   ]
  },
  {
   "cell_type": "markdown",
   "metadata": {},
   "source": [
    "\n",
    "### For the purpose of this project we will concentrate on the **Numbers Round**:"
   ]
  },
  {
   "cell_type": "markdown",
   "metadata": {},
   "source": [
    "In \"Countdown\", it is called Numbers Game, and in the French show, it is referred to as \"Le Compte est Bon\" - which translates to \"the total is right\". The British and <br>\n",
    "French versions have some differences on the rules.\n",
    "- *Note*: This project focuses on the rules used in the British version, \"Countdown\".\n",
    "\n",
    "The table below layouts the rules for the numbers round:"
   ]
  },
  {
   "cell_type": "markdown",
   "metadata": {},
   "source": [
    "|           | **Details**                                                                                                            |\n",
    "|-----------------------|------------------------------------------------------------------------------------------------------------------------|\n",
    "| **Number Selection**  | - Contestants choose six numbers from two sets: four large numbers (25, 50, 75, 100) and twenty small numbers (1-10).  |\n",
    "| **Large Numbers**     | - Contestants can choose 0, 1, 2, 3, or 4 large numbers.                                                               |\n",
    "| **Small Numbers**     | - The remaining numbers (up to six) are chosen from the small numbers.                                                 |\n",
    "| **Target Number**     | - A random number generator produces a target number between 101 and 999.                                              |\n",
    "| **Operations Allowed**| - Only basic arithmetic operations (addition, subtraction, multiplication, division) can be used.                      |\n",
    "| **Rules for Operations** | - Each selected number can be used once.<br>- No negative or fractional results are allowed in intermediate steps.   |\n",
    "| **Time Limit**        | - Contestants have 30 seconds to reach or get as close as possible to the target number.                               |\n",
    "| **Scoring**           | - 10 points for reaching the target number.<br>- 7 points for being within 5 of the target.<br>- 5 points for being within 10 of the target. |\n"
   ]
  },
  {
   "cell_type": "markdown",
   "metadata": {},
   "source": [
    "***\n",
    "# **Computational Complexity of the Game**"
   ]
  },
  {
   "cell_type": "markdown",
   "metadata": {},
   "source": [
    "To fully understand the computational complexity of the Countdown numbers game, not only the permutations of the numbers chosen should be considered but also the combinations of the operations applied and the different ways these operations can be structured, as there are many ways the numbers can be grouped together and operations applied in sequence. This complexity evolves many key factors:"
   ]
  },
  {
   "cell_type": "markdown",
   "metadata": {},
   "source": [
    "# - **Permutation of numbers**:\n",
    "The game starts with a selection of six numbers, which can be arranged in various sequences. Each permutation represents a unique sequence, and with six numbers, there are `6!` (factorial) permutations possible.<br>\n",
    "The formula to calculate permutations is the factorial of the number of items, denoted as n!, where n is the number of items. For six numbers, this is calculated as:\n",
    "\n",
    "    \n",
    "`6! = 6 × 5 × 4 × 3 × 2 × 1 = 720`\n",
    "\n",
    "\n",
    "### **Example**: \n",
    "For numbers 1, 2, 3, 4, 5, 6, one permutation is `1-2-3-4-5-6`, and another is `6-5-4-3-2-1`.<br>\n",
    "### **Complexity**: \n",
    "With 6 numbers, the permutations are `6! = 720`. This means there are **720** different ways to order these numbers.\n"
   ]
  },
  {
   "cell_type": "markdown",
   "metadata": {},
   "source": [
    "Below is the code to calculate the total of permutations in a six numbers list:"
   ]
  },
  {
   "cell_type": "code",
   "execution_count": 6,
   "metadata": {},
   "outputs": [
    {
     "name": "stdout",
     "output_type": "stream",
     "text": [
      "Total permutations generated: 720\n",
      "Example permutation: (3, 5, 7, 100, 25, 50)\n",
      "Another example permutation: (50, 25, 100, 7, 5, 3)\n"
     ]
    }
   ],
   "source": [
    "import itertools\n",
    "# list of numbers\n",
    "numbers = [3, 5, 7, 100, 25, 50]\n",
    "permutations = list(itertools.permutations(numbers))\n",
    "print(f\"Total permutations generated: {len(permutations)}\")\n",
    "print(f\"Example permutation: {permutations[0]}\")\n",
    "print(f\"Another example permutation: {permutations[-1]}\")"
   ]
  },
  {
   "cell_type": "markdown",
   "metadata": {},
   "source": [
    "# - **Operations Combinations**:\n",
    "Between any two numbers, four operations (addition, subtraction, multiplication, division) can be applied. Given five positions between the six numbers where these operations can be inserted, the combinations of operations are `4^5`.\n",
    "\n",
    "### **Example**: \n",
    "For a simple sequence of three numbers 1,2,3 with two positions for opeartions, there are `4^2 = 16` possible combinations of operations. <br>\n",
    "### **Complexity**: \n",
    "For six numbers, with five positions for operations, there are `4^5 = 1024` operation combinations.\n"
   ]
  },
  {
   "cell_type": "markdown",
   "metadata": {},
   "source": [
    "Using the `itertools.product` function, the code below generate all possible combinations of operations for given positions. "
   ]
  },
  {
   "cell_type": "code",
   "execution_count": 7,
   "metadata": {},
   "outputs": [
    {
     "name": "stdout",
     "output_type": "stream",
     "text": [
      "Total operation combinations for 5 positions: 1024\n",
      "Example of the operation combinations:\n",
      "('+', '+', '+', '+', '+')\n",
      "('+', '+', '+', '+', '-')\n",
      "('+', '+', '+', '+', '*')\n",
      "('+', '+', '+', '+', '/')\n",
      "('+', '+', '+', '-', '+')\n"
     ]
    }
   ],
   "source": [
    "from itertools import product\n",
    "# number of positions\n",
    "positions = 5\n",
    "\n",
    "# operations as functions\n",
    "def add(a, b):\n",
    "    return a + b\n",
    "def subtract(a, b):\n",
    "    return a - b\n",
    "def multiply(a, b):\n",
    "    return a * b\n",
    "def divide(a, b):\n",
    "    return a / b\n",
    "\n",
    "# operations\n",
    "operations = [add, subtract, multiply, divide]\n",
    "operation_symbols = ['+', '-', '*', '/']\n",
    "\n",
    "# Calculate the combinations of operations for 5 positions between 6 numbers\n",
    "operation_combinations = list(product(operation_symbols, repeat=positions))\n",
    "\n",
    "print(f\"Total operation combinations for 5 positions: {len(operation_combinations)}\")\n",
    "print(\"Example of the operation combinations:\")\n",
    "for combo in operation_combinations[:positions]:\n",
    "    print(combo)"
   ]
  },
  {
   "cell_type": "markdown",
   "metadata": {},
   "source": [
    "# - **Parenthesization**:\n",
    "In the Countdown numbers game, arrange the six chosen numbers to reach a specific target involves a great understanding of how arithmetic operations can be combined and sequenced. <br>\n",
    "It is not just about selecting the right numbers and operations but also how all the elements are grouped together, a process higly influenced by the use of parentheses.\n"
   ]
  },
  {
   "cell_type": "markdown",
   "metadata": {},
   "source": [
    "### **Example**: \n",
    "As an example, with the six available numbers being 25, 50, 5, 10, 3, 2 with a target number of 453. One potential solution coud then be:\n",
    "\n",
    "50 - 25 = 25 </br>\n",
    "25 x 2 = 50 </br>\n",
    "50 - 5 = 45 </br>\n",
    "45 x 10 = 450 </br>\n",
    "450 + 3 = 453 </br>\n",
    "\n",
    "It could also be represented as a single expression:\n",
    "`((((50-25) x 2 ) - 5 ) x 10 ) + 3`\n",
    "\n",
    "The parentheses guide the order of operations, ensuring clarity and precision in reaching the target number."
   ]
  },
  {
   "cell_type": "markdown",
   "metadata": {},
   "source": [
    "### **Complexity**:\n",
    "In traditional arithmetic expressions (infix notation), parentheses are essential for specifying the order of operations which surpass the basic precendents rules (eg. multiplication before addition). For example the expression `3 + 4 * 2`, without any parentheses, it evaluates to `11`, following the standards order of operations. However, adding the parentheses to change the grouping, as in `(3 + 4) * 2`, changes the result to `14`. When scalling up to complex expressions with many numbers and operations, the number of possible parenthesizations grows rapidly. <br>\n",
    "More specific, the number of valid ways to insert parentheses in an expression with `n` operations is given by the *n*th Catalan number, which increases exponentially with `n`. For six numbers and five operations, there are 42 different ways to parenthesize the operations.\n"
   ]
  },
  {
   "cell_type": "markdown",
   "metadata": {},
   "source": [
    "The code below calculates the number of valid ways to parenthesize an expression with a given number of operations using the Catalan number formula:"
   ]
  },
  {
   "cell_type": "code",
   "execution_count": 8,
   "metadata": {},
   "outputs": [
    {
     "name": "stdout",
     "output_type": "stream",
     "text": [
      "For 5 operations, there are 42 different ways to parenthesize the operations.\n"
     ]
    }
   ],
   "source": [
    "def catalan_number(n):\n",
    "    if n == 0:\n",
    "        return 1\n",
    "    else:\n",
    "        result = 0\n",
    "        for i in range(n):\n",
    "            result += catalan_number(i) * catalan_number(n - i - 1)\n",
    "        return result\n",
    "\n",
    "# Number of operations\n",
    "n_operations = 5\n",
    "\n",
    "# Calculate the nth Catalan number\n",
    "n_ways = catalan_number(n_operations)\n",
    "\n",
    "print(f\"For {n_operations} operations, there are {n_ways} different ways to parenthesize the operations.\")\n"
   ]
  },
  {
   "cell_type": "markdown",
   "metadata": {},
   "source": [
    "### How RPN (Reverse Polish Notation) Simplifies the problem:\n",
    "Reverse Polish Notation (RPN), also known as postfix notation, is a mathematical notation that eliminates the need for parentheses to specify the order of operations. Instead, it relies on a stack based approach.\n",
    "In RPN, operators are placed after their operands, making the order of operations unambiguous. \n",
    "Here's how it works:\n",
    "\n",
    "    1- Operands are pushed onto a stack.\n",
    "    2- When an operator is encountered, it pops the required number of operands from the stack, performs the operation, and pushes the result back onto the stack.\n",
    "    3- This process continues until the entire expression is evaluated.\n",
    "\n",
    "Using the same example used for Parenthesization, the below are the equivalent steps in RPN with Stack:"
   ]
  },
  {
   "cell_type": "markdown",
   "metadata": {},
   "source": [
    "1. 50 25 -\n",
    "   - Stack: 25\n",
    "2. 25 2 x\n",
    "   - Stack: 50\n",
    "3. 50 5 -\n",
    "   - Stack: 45\n",
    "4. 45 10 x\n",
    "   - Stack: 450\n",
    "5. 450 3 +\n",
    "   - Stack: 453"
   ]
  },
  {
   "cell_type": "markdown",
   "metadata": {},
   "source": [
    "### Calculating Combinations of RPN with Stacks:\n",
    "To calculate the number of valid RPN expressions for a given set of numbers and operators, a combinatorial approach can be used. The number of valid RPN expressions with n operators can be computed using the `(2n)! / ((n + 1)! * n!)` formula.\n",
    "\n",
    "The below code demonstrates the calculation while emphasizing the role of stacks in RPN:"
   ]
  },
  {
   "cell_type": "code",
   "execution_count": 9,
   "metadata": {},
   "outputs": [
    {
     "name": "stdout",
     "output_type": "stream",
     "text": [
      "For 5 operations, there are 42 different valid RPN combinations, thanks to the stack-based RPN notation.\n"
     ]
    }
   ],
   "source": [
    "import math\n",
    "\n",
    "def calculate_rpn_combinations_with_stack(n_operations):\n",
    "    return math.factorial(2 * n_operations) // (math.factorial(n_operations + 1) * math.factorial(n_operations))\n",
    "\n",
    "# Number of operations\n",
    "n_operations = 5 \n",
    "\n",
    "# Calculate the number of valid RPN combinations using a stack-based approach\n",
    "n_rpn_combinations = calculate_rpn_combinations_with_stack(n_operations)\n",
    "\n",
    "print(f\"For {n_operations} operations, there are {n_rpn_combinations} different valid RPN combinations, thanks to the stack-based RPN notation.\")\n"
   ]
  },
  {
   "cell_type": "markdown",
   "metadata": {},
   "source": [
    "# - **Unique Usage of numbers**: \n",
    "\n",
    "Each of the six numbers can be used *exactly once* in the solution. This constraint reduces the solution space because it prevents the reuse of numbers, making some combinations of operations and numbers impossible if they require duplicating a number.\n",
    "\n",
    "### **Example**: \n",
    "If you have the numbers 1, 3, 50, and your target is 53, you can only use each number once to reach the target, e.g., 1 + 50 + 3"
   ]
  },
  {
   "cell_type": "markdown",
   "metadata": {},
   "source": [
    "# - **No Negative or Fractional Results**:\n",
    "\n",
    "No intermidiate step can result in a negative number or a fractional number. This rule adds a layer of complexity to the selection of operations:\n",
    "- **Subtraction** operations must be ordered such that the result is always non-negative.\n",
    "- **Division** must result in a whole number, restricting the pairs of numbers that can be divided."
   ]
  },
  {
   "cell_type": "markdown",
   "metadata": {},
   "source": [
    "# - **Closest Solution also Scores**:\n",
    "\n",
    "There are scenarios where reaching the exact target number is not possible, for this the game rules allow for scoring based on how close the contestant can get to the target.<br>\n",
    "This introduces another layer of difficulty, where the solver not only seek for exact solutions but also must consider and evaluate result that are close to the target."
   ]
  },
  {
   "cell_type": "markdown",
   "metadata": {},
   "source": [
    "# **Complexity Conclusion**:"
   ]
  },
  {
   "cell_type": "markdown",
   "metadata": {},
   "source": [
    "Considering all the key complexty of the game, we can calculate the total number of possible solutions considering the permutations, operations combinations, and parenthesization, focusing on the combinatorial aspects:\n",
    "\n",
    "- **Permutations of numbers**: `6!`\n",
    "    - There are `720` different ways to order the six numbers\n",
    "- **Conmbinations of operations**: `4^5`\n",
    "    -  For five positions between the numbers, there are `1024` possible combinations of operations.\n",
    "- **Parenthesization for 5 operations**: Using the Catalan number formula.\n",
    "    - With five operations, there are `42` different ways to parenthesize the operations."
   ]
  },
  {
   "cell_type": "markdown",
   "metadata": {},
   "source": [
    "We can estimate the total number of possible solutions for a round in the Countdown numbers game, assuming we can freely mix these aspects. However, this calculation doesn't account for the constraints on unique usage and no negative or fractional results, which significantly reduce the number of valid solutions.\n",
    "\n",
    "The total number of potential combinations before filtering for valid solutions would be the product of the permutations of numbers, the combinations of operations, and the parenthesization options: <br>\n",
    "`720 × 1024 × 42 =` `30,965,760`"
   ]
  },
  {
   "cell_type": "code",
   "execution_count": 10,
   "metadata": {},
   "outputs": [
    {
     "data": {
      "text/plain": [
       "30965760"
      ]
     },
     "execution_count": 10,
     "metadata": {},
     "output_type": "execute_result"
    }
   ],
   "source": [
    "len(permutations) * len(operation_combinations) * n_rpn_combinations"
   ]
  },
  {
   "cell_type": "markdown",
   "metadata": {},
   "source": [
    "***"
   ]
  },
  {
   "cell_type": "markdown",
   "metadata": {},
   "source": [
    "# **Generating a Gaming Scenario**"
   ]
  },
  {
   "cell_type": "markdown",
   "metadata": {},
   "source": [
    "The function `generate_game()` below creates a randomized scenario for the Countdown numbers game. It first selects between 0 and 4 large numbers randomly. Then, it selects the remaining small numbers, allowing duplicates as per the rules, to ensure a total of six numbers are chosen for the game scenario. Then, it generates a random target number within the range of 101 to 999. "
   ]
  },
  {
   "cell_type": "code",
   "execution_count": 9,
   "metadata": {},
   "outputs": [],
   "source": [
    "import itertools\n",
    "import operator\n",
    "import random\n",
    "\n",
    "def generate_game():  \n",
    "    large_numbers = [25, 50, 75, 100]\n",
    "    small_numbers = list(range(1, 11)) * 2  # Allow duplicates\n",
    "\n",
    "    # here it will select 0 to 4 large numbers and the rest will be small numbers\n",
    "    num_large_numbers = random.randint(0, 4)\n",
    "    numbers = random.sample(large_numbers, num_large_numbers) + random.sample(small_numbers, 6 - num_large_numbers)\n",
    "\n",
    "    target = random.randint(101, 999)\n",
    "\n",
    "    return numbers, target\n"
   ]
  },
  {
   "cell_type": "markdown",
   "metadata": {},
   "source": [
    "# **Using Brute Force to find a solution**"
   ]
  },
  {
   "cell_type": "markdown",
   "metadata": {},
   "source": [
    "The brute force approach to solve the problem consists on the following steps:\n",
    "- Generate all possible permutations of the selected numbers.\n",
    "- Apply all operations (addition, subtraction, multiplication and division).\n",
    "- Find an expression that evaluates to the target number, or as close as possible to it."
   ]
  },
  {
   "cell_type": "markdown",
   "metadata": {},
   "source": [
    "Before starting with the approach described above, I will create a function `evaluate_expression` that will check if a division by zero occurs, and return none if it occurs or true if it is valid."
   ]
  },
  {
   "cell_type": "code",
   "execution_count": 10,
   "metadata": {},
   "outputs": [],
   "source": [
    "def evaluate_expression(expr):\n",
    "    try:\n",
    "        # eval function is a python built-in function that evaluates the “String” like a python expression and returns the result\n",
    "        return eval(expr)\n",
    "    except ZeroDivisionError:\n",
    "        # none if division by zero occurs\n",
    "        return None"
   ]
  },
  {
   "cell_type": "markdown",
   "metadata": {},
   "source": []
  },
  {
   "cell_type": "markdown",
   "metadata": {},
   "source": [
    "***\n",
    "**References:**\n",
    "\n",
    "- Countdown logo: https://en.wikipedia.org/wiki/Countdown_%28game_show%29\n",
    "- Numbers Game image: https://www.youtube.com/watch?v=LaUYQOOK2Xw\n",
    "- Colton, S., 2014, April. Countdown numbers game: Solved, analysed, extended. In Proceedings of the AISB Symposium on AI and Games. https://doc.gold.ac.uk/aisb50/AISB50-S02/AISB50-S2-Colton-paper.pdf\n",
    "- Countdown (game show): https://en.wikipedia.org/wiki/Countdown_(game_show)\n",
    "- A Polish Approach to Countdown: https://www.ttested.com/polish-countdown/\n",
    "- Sugden, S. and Stocks, P., 2013. Letters and numbers: A vehicle to illustrate mathematical and computing fundamentals. In Proceedings of the 9th DELTA Conference on the Teaching and Learning of Undergraduate Mathematics and Statistics (pp. 180-189). The University of Western Sydney, School of Computing, Engineering and Mathematics.\n",
    "- Countdown Game Show solution: http://datagenetics.com/blog/august32014/index.html\n",
    "- Reverse Polish Notation: https://ianmcloughlin.github.io/reverse_polish_notation/\n",
    "- Shunting yard algorithm: https://en.wikipedia.org/wiki/Shunting_yard_algorithm"
   ]
  },
  {
   "cell_type": "markdown",
   "metadata": {},
   "source": [
    "***\n",
    "End"
   ]
  }
 ],
 "metadata": {
  "kernelspec": {
   "display_name": "Python 3",
   "language": "python",
   "name": "python3"
  },
  "language_info": {
   "codemirror_mode": {
    "name": "ipython",
    "version": 3
   },
   "file_extension": ".py",
   "mimetype": "text/x-python",
   "name": "python",
   "nbconvert_exporter": "python",
   "pygments_lexer": "ipython3",
   "version": "3.11.7"
  }
 },
 "nbformat": 4,
 "nbformat_minor": 2
}
