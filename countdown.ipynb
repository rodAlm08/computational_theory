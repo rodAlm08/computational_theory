{
 "cells": [
  {
   "cell_type": "markdown",
   "metadata": {},
   "source": [
    "# Project\n",
    "Rodrigo Almeida - G00377123\n",
    "***"
   ]
  },
  {
   "cell_type": "markdown",
   "metadata": {},
   "source": [
    "# Understanding Countdown Game Show "
   ]
  },
  {
   "cell_type": "markdown",
   "metadata": {},
   "source": [
    "The quiz shows \"Des Chiffres et des Lettres\" from France and its British counterpart \"Countdown\" are known for their longevity in the word of television. <br>\n",
    "The French show has been on French television since 1965. The britsh version, with over 8,000 episodes, is on air, on Channel 4 since 2 November 1982. The game show <br>\n",
    "involves mathematical and word tasks. In each episode of the show, two competitors engage in a trio of game types. They start with ten rounds of letter games, <br>\n",
    "where their goal is to form the longest word possible from a set of nine randomly selected letters. This is followed by four rounds focused on numbers, where contestants use arithmetic skills <br>\n",
    "to reach a specific target number using other numbers provided to them. The final challenge is the conundrum, a fast-paced buzzer round, where participants race to unravel a nine-letter anagram."
   ]
  },
  {
   "cell_type": "markdown",
   "metadata": {},
   "source": [
    "## **Gameplay and Structure**\n",
    "- **Mathematical and Word Tasks**: Each episode features a mix of mental agility and vocabulary challenges.\n",
    "\n",
    "### **The Rounds**\n",
    "1. **Letters Rounds (10 rounds)**\n",
    "   - *Objective*: Contestants create the longest word possible.\n",
    "   - *Method*: Use nine randomly selected letters.\n",
    "2. **Numbers Rounds (4 rounds)**\n",
    "   - *Objective*: Achieve a specific target number.\n",
    "   - *Method*: Employ arithmetic skills with provided numbers.\n",
    "3. **Conundrum (Final challenge)**\n",
    "   - *Nature*: A fast-paced buzzer round.\n",
    "   - *Goal*: Solve a nine-letter anagram as quickly as possible.\n",
    "\n",
    "---\n"
   ]
  },
  {
   "cell_type": "markdown",
   "metadata": {},
   "source": [
    "- Countdown logo: https://en.wikipedia.org/wiki/Countdown_%28game_show%29\n",
    "- Numbers Game image: https://www.youtube.com/watch?v=LaUYQOOK2Xw\n",
    "- Colton, S., 2014, April. Countdown numbers game: Solved, analysed, extended. In Proceedings of the AISB Symposium on AI and Games. https://doc.gold.ac.uk/aisb50/AISB50-S02/AISB50-S2-Colton-paper.pdf\n",
    "- Countdown (game show): https://en.wikipedia.org/wiki/Countdown_(game_show)\n"
   ]
  }
 ],
 "metadata": {
  "kernelspec": {
   "display_name": "Python 3",
   "language": "python",
   "name": "python3"
  },
  "language_info": {
   "codemirror_mode": {
    "name": "ipython",
    "version": 3
   },
   "file_extension": ".py",
   "mimetype": "text/x-python",
   "name": "python",
   "nbconvert_exporter": "python",
   "pygments_lexer": "ipython3",
   "version": "3.11.7"
  }
 },
 "nbformat": 4,
 "nbformat_minor": 2
}
