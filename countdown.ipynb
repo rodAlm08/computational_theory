{
 "cells": [
  {
   "cell_type": "markdown",
   "metadata": {},
   "source": [
    "# Project\n",
    "Rodrigo Almeida - G00377123\n",
    "***"
   ]
  },
  {
   "cell_type": "markdown",
   "metadata": {},
   "source": [
    "# **Understanding Countdown Game Show**"
   ]
  },
  {
   "cell_type": "markdown",
   "metadata": {},
   "source": [
    "The quiz shows \"Des Chiffres et des Lettres\" from France and its British counterpart \"Countdown\" are known for their longevity in the world of television. <br>\n",
    "The French show has been on French television since 1965. The British version, with over 8,000 episodes, is on air, on Channel 4 since 2 November 1982. The game show <br>\n",
    "involves mathematical and word tasks. In each episode of the show, two competitors engage in a trio of game types. They start with ten rounds of letter games, <br>\n",
    "where their goal is to form the longest word possible from a set of nine randomly selected letters. This is followed by four rounds focused on numbers, where contestants use arithmetic skills <br>\n",
    "to reach a specific target number using other numbers provided to them. The final challenge is the conundrum, a fast-paced buzzer round, where participants race to unravel a nine-letter anagram."
   ]
  },
  {
   "cell_type": "markdown",
   "metadata": {},
   "source": [
    "## **Gameplay and Structure**\n",
    "- **Mathematical and Word Tasks**: Each episode features a mix of mental agility and vocabulary challenges.\n",
    "\n",
    "### **The Rounds**\n",
    "1. **Letters Rounds (10 rounds)**\n",
    "   - *Objective*: Contestants create the longest word possible.\n",
    "   - *Method*: Use nine randomly selected letters.\n",
    "2. **Numbers Rounds (4 rounds)**\n",
    "   - *Objective*: Achieve a specific target number.\n",
    "   - *Method*: Employ arithmetic skills with provided numbers.\n",
    "3. **Conundrum (Final challenge)**\n",
    "   - *Nature*: A fast-paced buzzer round.\n",
    "   - *Goal*: Solve a nine-letter anagram as quickly as possible.\n",
    "\n",
    "---\n"
   ]
  },
  {
   "cell_type": "markdown",
   "metadata": {},
   "source": [
    "### For the purpose of this project we will concentrate on the **Numbers Round**:"
   ]
  },
  {
   "cell_type": "markdown",
   "metadata": {},
   "source": [
    "In \"Countdown\", it is called Numbers Game, and in the French show, it is referred to as \"Le Compte est Bon\" - which translates to \"the total is right\". The British and <br>\n",
    "French versions have some differences on the rules.\n",
    "- *Note*: This project focuses on the rules used in the British version, \"Countdown\".\n",
    "\n",
    "The table below layouts the rules for the numbers round:"
   ]
  },
  {
   "cell_type": "markdown",
   "metadata": {},
   "source": [
    "|           | **Details**                                                                                                            |\n",
    "|-----------------------|------------------------------------------------------------------------------------------------------------------------|\n",
    "| **Number Selection**  | - Contestants choose six numbers from two sets: four large numbers (25, 50, 75, 100) and twenty small numbers (1-10).  |\n",
    "| **Large Numbers**     | - Contestants can choose 0, 1, 2, 3, or 4 large numbers.                                                               |\n",
    "| **Small Numbers**     | - The remaining numbers (up to six) are chosen from the small numbers.                                                 |\n",
    "| **Target Number**     | - A random number generator produces a target number between 101 and 999.                                              |\n",
    "| **Operations Allowed**| - Only basic arithmetic operations (addition, subtraction, multiplication, division) can be used.                      |\n",
    "| **Rules for Operations** | - Each selected number can be used once.<br>- No negative or fractional results are allowed in intermediate steps.   |\n",
    "| **Time Limit**        | - Contestants have 30 seconds to reach or get as close as possible to the target number.                               |\n",
    "| **Scoring**           | - 10 points for reaching the target number.<br>- 7 points for being within 5 of the target.<br>- 5 points for being within 10 of the target. |\n"
   ]
  },
  {
   "cell_type": "markdown",
   "metadata": {},
   "source": [
    "***\n",
    "# **Computational Complexity of the Game**"
   ]
  },
  {
   "cell_type": "markdown",
   "metadata": {},
   "source": [
    "To fully understand the computational complexity of the Countdown numbers game, not only the permutations of the numbers chosen should be considered but also the combinations of the operations applied and the different ways these operations can be structured, as there are many ways the numbers can be grouped together and operations applied in sequence. This complexity evolves many key factors:"
   ]
  },
  {
   "cell_type": "markdown",
   "metadata": {},
   "source": [
    "# - **Permutation of numbers**:\n",
    "The game starts with a selection of six numbers, which can be arranged in various sequences. Each permutation represents a unique sequence, and with six numbers, there are `6!` (factorial) permutations possible.<br>\n",
    "The formula to calculate permutations is the factorial of the number of items, denoted as n!, where n is the number of items. For six numbers, this is calculated as:\n",
    "\n",
    "    \n",
    "`6! = 6 × 5 × 4 × 3 × 2 × 1 = 720`\n",
    "\n",
    "\n",
    "### **Example**: \n",
    "For numbers 1, 2, 3, 4, 5, 6, one permutation is `1-2-3-4-5-6`, and another is `6-5-4-3-2-1`.<br>\n",
    "### **Complexity**: \n",
    "With 6 numbers, the permutations are `6! = 720`. This means there are **720** different ways to order these numbers.\n"
   ]
  },
  {
   "cell_type": "markdown",
   "metadata": {},
   "source": [
    "Below is the code to calculate the total of permutations in a six numbers list:"
   ]
  },
  {
   "cell_type": "code",
   "execution_count": 247,
   "metadata": {},
   "outputs": [
    {
     "name": "stdout",
     "output_type": "stream",
     "text": [
      "Total permutations generated: 720\n",
      "Example permutation: (3, 5, 7, 100, 25, 50)\n",
      "Another example permutation: (50, 25, 100, 7, 5, 3)\n"
     ]
    }
   ],
   "source": [
    "import itertools\n",
    "# list of numbers\n",
    "numbers = [3, 5, 7, 100, 25, 50]\n",
    "# generate all permutations using itertools\n",
    "# itertools.permutations() returns a list of tuples containing all permutations\n",
    "permutations = list(itertools.permutations(numbers))\n",
    "print(f\"Total permutations generated: {len(permutations)}\") # 720 permutations\n",
    "print(f\"Example permutation: {permutations[0]}\") # (3, 5, 7, 100, 25, 50)\n",
    "print(f\"Another example permutation: {permutations[-1]}\") # (50, 25, 100, 7, 5, 3)"
   ]
  },
  {
   "cell_type": "markdown",
   "metadata": {},
   "source": [
    "# - **Operations Combinations**:\n",
    "Between any two numbers, four operations (addition, subtraction, multiplication, division) can be applied. Given five positions between the six numbers where these operations can be inserted, the combinations of operations are `4^5`.\n",
    "\n",
    "### **Example**: \n",
    "For a simple sequence of three numbers 1,2,3 with two positions for operations, there are `4^2 = 16` possible combinations of operations. <br>\n",
    "### **Complexity**: \n",
    "For six numbers, with five positions for operations, there are `4^5 = 1024` operation combinations.\n"
   ]
  },
  {
   "cell_type": "markdown",
   "metadata": {},
   "source": [
    "Using the `itertools.product` function, the code below generates all possible combinations of operations for given positions. "
   ]
  },
  {
   "cell_type": "code",
   "execution_count": 248,
   "metadata": {},
   "outputs": [
    {
     "name": "stdout",
     "output_type": "stream",
     "text": [
      "Total operation combinations for 5 positions: 1024\n",
      "Example of the operation combinations:\n",
      "('+', '+', '+', '+', '+')\n",
      "('+', '+', '+', '+', '-')\n",
      "('+', '+', '+', '+', '*')\n",
      "('+', '+', '+', '+', '/')\n",
      "('+', '+', '+', '-', '+')\n"
     ]
    }
   ],
   "source": [
    "from itertools import product\n",
    "# number of positions\n",
    "positions = 5\n",
    "\n",
    "# operations as lambda. Labda is a small anonymous function that can take any number of arguments, but can only have one expression.\n",
    "add = lambda a, b: a + b\n",
    "subtract = lambda a, b: a - b\n",
    "multiply = lambda a, b: a * b\n",
    "divide = lambda a, b: a / b\n",
    "\n",
    "# this is the same as the lambda functions above. The above is more concise and is the preferred way to write lambda functions.\n",
    "# def add(a, b):\n",
    "#     return a + b\n",
    "# def subtract(a, b):\n",
    "#     return a - b\n",
    "# def multiply(a, b):\n",
    "#     return a * b\n",
    "# def divide(a, b):\n",
    "#     return a / b\n",
    "\n",
    "# operations\n",
    "operations = [add, subtract, multiply, divide]\n",
    "operation_symbols = ['+', '-', '*', '/']\n",
    "\n",
    "# Calculate the combinations of operations for 5 positions between 6 numbers\n",
    "operation_combinations = list(product(operation_symbols, repeat=positions))\n",
    "\n",
    "# print the total number of operation combinations\n",
    "print(f\"Total operation combinations for 5 positions: {len(operation_combinations)}\")\n",
    "print(\"Example of the operation combinations:\")\n",
    "\n",
    "# print the first operation combinations\n",
    "for combo in operation_combinations[:positions]:\n",
    "    print(combo)"
   ]
  },
  {
   "cell_type": "markdown",
   "metadata": {},
   "source": [
    "# - **Parenthesization**:\n",
    "In the Countdown numbers game, arranging the six chosen numbers to reach a specific target involves a great understanding of how arithmetic operations can be combined and sequenced. <br>\n",
    "It is not just about selecting the right numbers and operations but also how all the elements are grouped together, a process highly influenced by the use of parentheses.\n"
   ]
  },
  {
   "cell_type": "markdown",
   "metadata": {},
   "source": [
    "### **Example**: \n",
    "As an example, the six available numbers are 25, 50, 5, 10, 3, and 2 with a target number of 453. One potential solution could then be:\n",
    "\n",
    "50 - 25 = 25 </br>\n",
    "25 x 2 = 50 </br>\n",
    "50 - 5 = 45 </br>\n",
    "45 x 10 = 450 </br>\n",
    "450 + 3 = 453 </br>\n",
    "\n",
    "It could also be represented as a single expression:\n",
    "`((((50-25) x 2 ) - 5 ) x 10 ) + 3`\n",
    "\n",
    "The parentheses guide the order of operations, ensuring clarity and precision in reaching the target number."
   ]
  },
  {
   "cell_type": "markdown",
   "metadata": {},
   "source": [
    "### **Complexity**:\n",
    "In traditional arithmetic expressions (infix notation), parentheses are essential for specifying the order of operations which surpass the basic precedents rules (eg. multiplication before addition). For example the expression `3 + 4 * 2`, without any parentheses, evaluates to `11`, following the standard order of operations. However, adding the parentheses to change the grouping, as in `(3 + 4) * 2`, changes the result to `14`. When scaling up to complex expressions with many numbers and operations, the number of possible parenthesizations grows rapidly. <br>\n",
    "More specifically, the number of valid ways to insert parentheses in an expression with `n` operations is given by the *n*th Catalan number, which increases exponentially with `n`. For six numbers and five operations, there are 42 different ways to parenthesize the operations.\n"
   ]
  },
  {
   "cell_type": "markdown",
   "metadata": {},
   "source": [
    "The code below calculates the number of valid ways to parenthesize an expression with a given number of operations using the Catalan number formula:"
   ]
  },
  {
   "cell_type": "code",
   "execution_count": 249,
   "metadata": {},
   "outputs": [
    {
     "name": "stdout",
     "output_type": "stream",
     "text": [
      "For 5 operations, there are 42 different ways to parenthesize the operations.\n"
     ]
    }
   ],
   "source": [
    "# the function bellow calculates the nth Catalan number using recursion\n",
    "# The Catalan numbers are a sequence of natural numbers that occurs in various counting problems, often involving \n",
    "# recursively-defined objects. They are named after the French mathematician Eugène Charles Catalan (1814–1894).\n",
    "# The nth Catalan number can be calculated using the formula: C(n) = (2n)! / ((n + 1)! * n!)\n",
    "def catalan_number(n):\n",
    "    if n == 0:\n",
    "        return 1\n",
    "    else:\n",
    "        result = 0\n",
    "        for i in range(n):\n",
    "            result += catalan_number(i) * catalan_number(n - i - 1)\n",
    "        return result\n",
    "\n",
    "# Number of operations\n",
    "n_operations = 5\n",
    "\n",
    "# Calculate the nth Catalan number\n",
    "n_ways = catalan_number(n_operations)\n",
    "\n",
    "print(f\"For {n_operations} operations, there are {n_ways} different ways to parenthesize the operations.\")\n"
   ]
  },
  {
   "cell_type": "markdown",
   "metadata": {},
   "source": [
    "### How RPN (Reverse Polish Notation) Simplifies the problem:\n",
    "Reverse Polish Notation (RPN), also known as postfix notation, is a mathematical notation that eliminates the need for parentheses to specify the order of operations. Instead, it relies on a stack-based approach.\n",
    "In RPN, operators are placed after their operands, making the order of operations unambiguous. \n",
    "Here's how it works:\n",
    "\n",
    "    1- Operands are pushed onto a stack.\n",
    "    2- When an operator is encountered, it pops the required number of operands from the stack, performs the operation, and pushes the result back onto the stack.\n",
    "    3- This process continues until the entire expression is evaluated.\n",
    "\n",
    "Using the same example used for Parenthesization, below are the equivalent steps in RPN with Stack:"
   ]
  },
  {
   "cell_type": "markdown",
   "metadata": {},
   "source": [
    "1. 50 25 -\n",
    "   - Stack: 25\n",
    "2. 25 2 x\n",
    "   - Stack: 50\n",
    "3. 50 5 -\n",
    "   - Stack: 45\n",
    "4. 45 10 x\n",
    "   - Stack: 450\n",
    "5. 450 3 +\n",
    "   - Stack: 453"
   ]
  },
  {
   "cell_type": "markdown",
   "metadata": {},
   "source": [
    "### Calculating Combinations of RPN with Stacks:\n",
    "To calculate the number of valid RPN expressions for a given set of numbers and operators, a combinatorial approach can be used. The number of valid RPN expressions with n operators can be computed using the `(2n)! / ((n + 1)! * n!)` formula.\n",
    "\n",
    "The below code demonstrates the calculation while emphasizing the role of stacks in RPN:"
   ]
  },
  {
   "cell_type": "code",
   "execution_count": 250,
   "metadata": {},
   "outputs": [
    {
     "name": "stdout",
     "output_type": "stream",
     "text": [
      "For 5 operations, there are 42 different valid RPN combinations, thanks to the stack-based RPN notation.\n"
     ]
    }
   ],
   "source": [
    "import math\n",
    "\n",
    "# using math.factorial() to calculate the factorial of a number\n",
    "# The factorial of a non-negative integer n is the product of all positive integers less than or equal to n.\n",
    "# The factorial of n is denoted by n! and calculated by the product of all positive integers up to n.\n",
    "# For example, 5! = 5 * 4 * 3 * 2 * 1 = 120\n",
    "\n",
    "def calculate_rpn_combinations_with_stack(n_operations):\n",
    "    return math.factorial(2 * n_operations) // (math.factorial(n_operations + 1) * math.factorial(n_operations))\n",
    "\n",
    "# Number of operations\n",
    "n_operations = 5 \n",
    "\n",
    "# Calculate the number of valid RPN combinations using a stack-based approach\n",
    "n_rpn_combinations = calculate_rpn_combinations_with_stack(n_operations)\n",
    "\n",
    "# Print the result\n",
    "print(f\"For {n_operations} operations, there are {n_rpn_combinations} different valid RPN combinations, thanks to the stack-based RPN notation.\")\n"
   ]
  },
  {
   "cell_type": "markdown",
   "metadata": {},
   "source": [
    "# - **Unique Usage of numbers**: \n",
    "\n",
    "Each of the six numbers can be used *exactly once* in the solution. This constraint reduces the solution space because it prevents the reuse of numbers, making some combinations of operations and numbers impossible if they require duplicating a number.\n",
    "\n",
    "### **Example**: \n",
    "If you have the numbers 1, 3, 50, and your target is 53, you can only use each number once to reach the target, e.g., 1 + 50 + 3"
   ]
  },
  {
   "cell_type": "markdown",
   "metadata": {},
   "source": [
    "# - **No Negative or Fractional Results**:\n",
    "\n",
    "No intermediate step can result in a negative number or a fractional number. This rule adds a layer of complexity to the selection of operations:\n",
    "- **Subtraction** operations must be ordered such that the result is always non-negative.\n",
    "- **Division** must result in a whole number, restricting the pairs of numbers that can be divided."
   ]
  },
  {
   "cell_type": "markdown",
   "metadata": {},
   "source": [
    "# - **Closest Solution also Scores**:\n",
    "\n",
    "There are scenarios where reaching the exact target number is not possible, for this the game rules allow for scoring based on how close the contestant can get to the target.<br>\n",
    "This introduces another layer of difficulty, where the solver not only seeks for exact solutions but also must consider and evaluate result that are close to the target."
   ]
  },
  {
   "cell_type": "markdown",
   "metadata": {},
   "source": [
    "# **Complexity Conclusion**:"
   ]
  },
  {
   "cell_type": "markdown",
   "metadata": {},
   "source": [
    "Considering all the key complexity of the game, we can calculate the total number of possible solutions considering the permutations, operations combinations, and parenthesization, focusing on the combinatorial aspects:\n",
    "\n",
    "- **Permutations of numbers**: `6!`\n",
    "    - There are `720` different ways to order the six numbers\n",
    "- **Combinations of operations**: `4^5`\n",
    "    -  For five positions between the numbers, there are `1024` possible combinations of operations.\n",
    "- **Parenthesization for 5 operations**: Using the Catalan number formula.\n",
    "    - With five operations, there are `42` different ways to parenthesize the operations."
   ]
  },
  {
   "cell_type": "markdown",
   "metadata": {},
   "source": [
    "We can estimate the total number of possible solutions for a round in the Countdown numbers game, assuming we can freely mix these aspects. However, this calculation doesn't account for the constraints on unique usage and no negative or fractional results, which significantly reduce the number of valid solutions.\n",
    "\n",
    "The total number of potential combinations before filtering for valid solutions would be the product of the permutations of numbers, the combinations of operations, and the parenthesization options: <br>\n",
    "`720 × 1024 × 42 =` `30,965,760`"
   ]
  },
  {
   "cell_type": "code",
   "execution_count": 251,
   "metadata": {},
   "outputs": [
    {
     "data": {
      "text/plain": [
       "30965760"
      ]
     },
     "execution_count": 251,
     "metadata": {},
     "output_type": "execute_result"
    }
   ],
   "source": [
    "# Calculate the total number of valid RPN expressions for a given set of numbers and operations using the formula: \n",
    "len(permutations) * len(operation_combinations) * n_rpn_combinations"
   ]
  },
  {
   "cell_type": "markdown",
   "metadata": {},
   "source": [
    "***"
   ]
  },
  {
   "cell_type": "markdown",
   "metadata": {},
   "source": [
    "# **Generating a Gaming Scenario**"
   ]
  },
  {
   "cell_type": "markdown",
   "metadata": {},
   "source": [
    "The function `generate_game()` below creates a randomized scenario for the Countdown numbers game. It first selects between 0 and 4 large numbers randomly. Then, it selects the remaining small numbers, allowing duplicates as per the rules, to ensure a total of six numbers are chosen for the game scenario. Then, it generates a random target number within the range of 101 to 999. "
   ]
  },
  {
   "cell_type": "code",
   "execution_count": 252,
   "metadata": {},
   "outputs": [],
   "source": [
    "import itertools\n",
    "import operator\n",
    "import random\n",
    "import time \n",
    "\n",
    "# the function generate a random game of numbers and target\n",
    "# it will select 0 to 4 large numbers and the rest will be small numbers\n",
    "# the target will be a random number between 101 and 999\n",
    "# the function will return the numbers and the target\n",
    "def generate_game():  \n",
    "    large_numbers = [25, 50, 75, 100] # Large numbers\n",
    "    small_numbers = list(range(1, 11)) * 2  # Allow duplicates for small numbers (1-10)\n",
    "\n",
    "    # here it will select 0 to 4 large numbers and the rest will be small numbers\n",
    "    num_large_numbers = random.randint(0, 4) # Number of large numbers\n",
    "    numbers = random.sample(large_numbers, num_large_numbers) + random.sample(small_numbers, 6 - num_large_numbers) # Numbers in the game (6 total) \n",
    "\n",
    "    target = random.randint(101, 999) # Target number (between 101 and 999)\n",
    "\n",
    "    # Return the numbers and the target\n",
    "    return numbers, target\n",
    "\n"
   ]
  },
  {
   "cell_type": "markdown",
   "metadata": {},
   "source": [
    "# **Using Brute Force to find a solution**"
   ]
  },
  {
   "cell_type": "markdown",
   "metadata": {},
   "source": [
    "The brute force approach to solve the problem consists of the following steps:\n",
    "- Generate all possible permutations of the selected numbers.\n",
    "- Apply all operations (addition, subtraction, multiplication and division).\n",
    "- Find an expression that evaluates to the target number, or as close as possible to it."
   ]
  },
  {
   "cell_type": "markdown",
   "metadata": {},
   "source": [
    "Before starting with the approach described above, I will create a function `evaluate_expression` that will check if a division by zero occurs, and return none if it occurs or true if it is valid."
   ]
  },
  {
   "cell_type": "code",
   "execution_count": 253,
   "metadata": {},
   "outputs": [],
   "source": [
    "# evaluate_expression function will evaluate the expression and return the result\n",
    "# if the expression is invalid or division by zero occurs, it will return None\n",
    "# it will use the eval which is a python built-in function that evaluates the “String” like a python expression and returns the result\n",
    "# if division by zero occurs, it will return None\n",
    "def evaluate_expression(expr):\n",
    "    try:\n",
    "        # eval function is a python built-in function that evaluates the “String” like a python expression and returns the result\n",
    "        return eval(expr)\n",
    "    except ZeroDivisionError:\n",
    "        # none if division by zero occurs\n",
    "        return None"
   ]
  },
  {
   "cell_type": "markdown",
   "metadata": {},
   "source": [
    "Now the following function will check if a number n is a whole number. It returns True if the module `(%)` of n by 1 is 0, indicating no remainder and thus that n is an integer."
   ]
  },
  {
   "cell_type": "code",
   "execution_count": 254,
   "metadata": {},
   "outputs": [],
   "source": [
    "# the function below will check if the number is a whole number\n",
    "# it will return return n % 1 == 0 if it is a whole number which means it is an integer number \n",
    "# where n is the number to check and % is the modulo operator which returns the remainder of the division\n",
    "# if the remainder is 0, then the number is a whole number\n",
    "# if the remainder is not 0, then the number is not a whole number\n",
    "def is_whole_number(n):\n",
    "    return n % 1 == 0"
   ]
  },
  {
   "cell_type": "markdown",
   "metadata": {},
   "source": [
    "Brute Force Function explained:\n",
    "1. `operations Dictionary` maps string representations of arithmetic operations to their corresponding Python operator functions found in the operator module. This mapping allows the function to dynamically apply operations between numbers.\n",
    "2. Iterates over all permutations of the input numbers using `itertools.permutations`.\n",
    "3. For each permutation of numbers, the functions iterate over all possible combinations of operations (addition, subtraction, multiplication and division) using `itertools.product`.\n",
    "4. The function then constructs an arithmetic expression for each combination of numbers and operations, and then evaluates it using `evaluate_expression`.\n",
    "5. Updates the Best Solution: If the evaluated results are valid (not `none`), the function calculates the difference (`diff`) between the result and the target number. If this difference is the smallest found so far (`best_diff`), the function updates `best_diff` and `best_expr` with the current expression and its difference. \n",
    "6. If an exact match to the target is found (`best_diff == 0`), the function immediately returns the expression and its result, as its optimal solution.\n",
    "7. After exploring all permutations and operations combinations, the function returns the best expression found and its result. If no valid expression was found it returns `none`."
   ]
  },
  {
   "cell_type": "markdown",
   "metadata": {},
   "source": [
    "Let's generate the game scenario:"
   ]
  },
  {
   "cell_type": "code",
   "execution_count": 255,
   "metadata": {},
   "outputs": [],
   "source": [
    "# will store the generated numbers and target in the variables numbers and target\n",
    "numbers, target = generate_game()"
   ]
  },
  {
   "cell_type": "markdown",
   "metadata": {},
   "source": [
    "Now the code below will find the solution using the imperative approach and NOT taking advantages of RPN:"
   ]
  },
  {
   "cell_type": "code",
   "execution_count": 256,
   "metadata": {},
   "outputs": [],
   "source": [
    "# the function below will find the solutions for the numbers and target using the imperative approach\n",
    "\n",
    "def find_solutions(numbers, target):\n",
    "    # start time to measure the time taken to find the solution\n",
    "    start_time = time.time() \n",
    "    # operations dictionary to store the operations\n",
    "    operations = {\n",
    "        '+': operator.add, # operator.add is a built-in function in python that returns the sum of two numbers\n",
    "        '-': operator.sub, # operator.sub is a built-in function in python that returns the difference of two numbers\n",
    "        '*': operator.mul, # operator.mul is a built-in function in python that returns the product of two numbers\n",
    "        '/': lambda x, y: x / y if y != 0 and x % y == 0 else None # lambda function to return the division of two numbers if the second number \n",
    "                                                                    # is not zero and the first number modulo the second number is zero\n",
    "    }\n",
    "    # best_diff to store the best difference\n",
    "    best_diff = float('inf')\n",
    "    # best_expr to store the best expression\n",
    "    best_expr = None\n",
    "\n",
    "    # generate all permutations of the numbers using itertools.permutations()\n",
    "    for nums in itertools.permutations(numbers):\n",
    "        for op_comb in itertools.product(operations.keys(), repeat=len(numbers)-1): # generate all combinations of operations\n",
    "            expr_parts = [str(nums[0])] # initialize the expression parts with the first number\n",
    "            for num, op in zip(nums[1:], op_comb): # iterate over the numbers and operations\n",
    "                if op == '/' and (nums[0] % num != 0 or num == 0): # check if division by zero occurs\n",
    "                    continue\n",
    "                expr_parts.extend([op, str(num)]) # add the operation and number to the expression parts\n",
    "            expr = ' '.join(expr_parts) # join the expression parts with a space\n",
    "            result = evaluate_expression(expr)  # Assume this evaluates the RPN expression correctly\n",
    "            if result is not None and is_whole_number(result): # check if the result is a whole number\n",
    "                diff = abs(target - result) # calculate the difference between the target and the result\n",
    "                if diff < best_diff: # check if the difference is less than the best difference\n",
    "                    best_diff = diff # update the best difference\n",
    "                    best_expr = expr # update the best expression\n",
    "                    if best_diff == 0: # check if the best difference is zero\n",
    "                        break  # Exit early if exact match found\n",
    "\n",
    "    end_time = time.time() # end time to measure the time taken to find the solution\n",
    "    imperative_time = end_time - start_time # calculate the time taken to find the solution\n",
    "    return best_expr, best_diff, imperative_time # return the best expression, best difference, and time taken to find the solution"
   ]
  },
  {
   "cell_type": "code",
   "execution_count": 257,
   "metadata": {},
   "outputs": [
    {
     "name": "stdout",
     "output_type": "stream",
     "text": [
      "Selected Numbers: [100, 50, 25, 5, 7, 6]\n",
      "Target Number: 143\n",
      "Exact solution found: 100 + 50 - 25 + 5 + 7 + 6 = 143, which equals the target 143\n",
      "Time taken: 6.14 seconds\n"
     ]
    }
   ],
   "source": [
    "# find the solution for the numbers and target using the imperative approach\n",
    "solution_expr, diff, imperative_time = find_solutions(numbers, target)\n",
    "\n",
    "print(\"Selected Numbers:\", numbers) # print the selected numbers\n",
    "print(\"Target Number:\", target) # print the target number\n",
    "\n",
    "# check if the solution expression is found\n",
    "if solution_expr:\n",
    "    solution_result = evaluate_expression(solution_expr)  # This should be your actual evaluation function\n",
    "    if diff == 0: # check if the difference is zero\n",
    "        print(f\"Exact solution found: {solution_expr} = {solution_result}, which equals the target {target}\") # print the exact solution found\n",
    "    else:\n",
    "        print(f\"Closest solution found: {solution_expr} = {solution_result}, which is {diff} away from the target {target}\") # print the closest solution found\n",
    "else:\n",
    "    print(\"No solution found.\") # print no solution found\n",
    "\n",
    "print(f\"Time taken: {imperative_time:.2f} seconds\") # print the time taken to find the solution"
   ]
  },
  {
   "cell_type": "markdown",
   "metadata": {},
   "source": [
    "# **Imperative Approach**"
   ]
  },
  {
   "cell_type": "markdown",
   "metadata": {},
   "source": [
    "The code demonstrated above follows the `Imperative approach` which directly manipulates the state with loops and conditional statements. It generates permutations of numbers and combinations of operations, builds expressions, evaluates them, and keeps track of the best solution found. This approach is straightforward, and allows for fine-grained control over the execution flow and is very explicit in how solutions are constructed and evaluated.\n",
    "\n",
    "- **Pros**:\n",
    "    - Easier to understand for those with experience with traditional programming paradigms.\n",
    "    - Explicit control, providing detailed control over the flow of data and operations.\n",
    "\n",
    "- **Cons**:\n",
    "    - Mutability: Relies on changing state, which can lead to errors or difficulties in understanding and debugging the code.\n",
    "    - Scalability: Managing complex flows with loops and conditionals can become a challenge.\n"
   ]
  },
  {
   "cell_type": "markdown",
   "metadata": {},
   "source": [
    "## **Big-O Analysis**\n",
    "\n",
    "- Permutations: The imperative approach generates all permutations of the selected numbers. The complexity of generating permutations of $n$ items is $O(n!)$, where $n$ is the number of items to permute in this case, the selected numbers for the game.\n",
    "- Operations Combinations: For each permutation, the approach considers all possible combinations of operations between the numbers. With $n-1$ slots for operations and 4 possible operations for each slot, this part has a complexity of $O(4^{n-1})$.\n",
    "- Evaluations: Each combination of numbers and operations is evaluated to check if it meets the target. The evaluation of each expression's complexity can be considered constant, $O(1)$, assuming the arithmetic operations take constant time. However, the total complexity for this part depends on the number of permutations and operation combinations, multiplied by the complexities mentioned above. "
   ]
  },
  {
   "cell_type": "markdown",
   "metadata": {},
   "source": [
    "Overall, the imperative approach's complexity is dominated by the permutations and operation combinations, leading to a total complexity of:\n",
    "\\begin{equation}\n",
    "O(n! \\cdot 4^{n-1})\n",
    "\\end{equation}\n"
   ]
  },
  {
   "cell_type": "markdown",
   "metadata": {},
   "source": [
    "# **Functional Approach**"
   ]
  },
  {
   "cell_type": "markdown",
   "metadata": {},
   "source": [
    "The `Functional Programming` emphasizes immutability, higher-order functions, and expressions over statements. It uses `map` and `filter` to transform and filter data without explicit loops, and `lambda` functions for concise expressions. This approach aims to generate all valid expressions using pipeline of transformations and selections, finding the best solution through a reduction operation (`min` function). Additionally, the use of `decorators` in functional programming further exemplifies its principles by adding behaviour to functions without modifying their core logic.\n",
    "\n",
    "- **Pros**:\n",
    "    - **Immutability**: Avoids the effects by modifying any outside state, making the code easier to read and debug.\n",
    "    - **Higher-order**: Functions and lambdas can lead to more concise and declarative code.\n",
    "    - **Reusability**: Encourages the use of small, reusable functions that can be combined in many ways.\n",
    "    - **Decorators**: Offer a powerful tool for extending a function's behaviour without altering its direct implementation. Decorators can encapsulate cross-cutting concerns like logging, timing, and access control, thereby adhering to the DRY (Don't Repeat Yourself) principle.\n",
    "\n",
    "- **Cons**:\n",
    "    - **Learning curve**: it is less intuitive for those not familiar with functional programming concepts.\n",
    "    - **Performance**: The creation and manipulation of many intermediate collections can potentially lead to inefficiencies.\n"
   ]
  },
  {
   "cell_type": "markdown",
   "metadata": {},
   "source": [
    "Below is an example of the `functional code` modifying the `imperative code` used above:"
   ]
  },
  {
   "cell_type": "markdown",
   "metadata": {},
   "source": [
    "This decorator wraps any function to measure its execution time. It prints the execution time and returns the original function's result along with the execution time as part of the return value."
   ]
  },
  {
   "cell_type": "code",
   "execution_count": 258,
   "metadata": {},
   "outputs": [],
   "source": [
    "def execution_time_decorator(func): # decorator to measure the time taken to find the solution\n",
    "    def wrapper(*args, **kwargs): # wrapper function to measure the time taken to find the solution. *args and **kwargs are used to pass a variable number of arguments to a function\n",
    "        start_time = time.time()\n",
    "        result = func(*args, **kwargs) # call the function to find the solution the arguments are \n",
    "        end_time = time.time()\n",
    "        execution_time = end_time - start_time\n",
    "        print(f\"{func.__name__} - Time taken: {execution_time:.2f} seconds\")\n",
    "        if not isinstance(result, tuple): # if the result is not a tuple\n",
    "            result = (result,) # convert the result to a tuple\n",
    "        return result + (execution_time,) # return the result and the execution time\n",
    "    return wrapper # return the wrapper function"
   ]
  },
  {
   "cell_type": "markdown",
   "metadata": {},
   "source": [
    "To evaluate the expressions in Reverse Polish Notation (RPN), in a postfix notation removing the need for parentheses to control the order of operations. We should also enforce that the division result is a whole number, as one of the rules is that no decimal numbers should be used."
   ]
  },
  {
   "cell_type": "code",
   "execution_count": 259,
   "metadata": {},
   "outputs": [],
   "source": [
    "# to evaluate the RPN expression, it will use the stack-based approach  \n",
    "def evaluate_rpn(expression):\n",
    "    \"\"\"Evaluates an RPN expression.\"\"\"\n",
    "    stack = []\n",
    "    for token in expression: # for each token in the expression\n",
    "        if str(token) in \"+-*/\": # if the token is an operator\n",
    "            if len(stack) < 2: # if the length of the stack is less than 2\n",
    "                return None # return None\n",
    "            b, a = stack.pop(), stack.pop() # pop the last two elements from the stack\n",
    "            if token == '+': # if the token is +\n",
    "                result = a + b # add the two numbers\n",
    "            elif token == '-':# if the token is - \n",
    "                result = a - b # subtract the two numbers\n",
    "            elif token == '*': # if the token is *\n",
    "                result = a * b # multiply the two numbers\n",
    "            elif token == '/': # if the token is /\n",
    "                # Ensure division results in a whole number\n",
    "                if b == 0 or a % b != 0: # if the second number is 0 or the first number modulo the second number is not 0\n",
    "                    return None #   return None\n",
    "                result = a // b # divide the two numbers\n",
    "            stack.append(result)\n",
    "        else:\n",
    "            stack.append(token) # append the token to the stack\n",
    "    return stack[0] if len(stack) == 1 else None # return the first element of the stack if the length of the stack is 1, otherwise return None"
   ]
  },
  {
   "cell_type": "markdown",
   "metadata": {},
   "source": [
    "Now we will wrap the function with `@execution_time_decorator` which will measure and print the time it takes for a solution to be found."
   ]
  },
  {
   "cell_type": "code",
   "execution_count": 260,
   "metadata": {},
   "outputs": [],
   "source": [
    "@execution_time_decorator # decorator to measure the time taken to find the solution\n",
    "\n",
    "def find_solution_functional(numbers, target): # function to find the solution using the functional approach\n",
    "    operators = ['+', '-', '*', '/'] # list of operators\n",
    "    closest_solution = (None, float('inf'))  # (Expression, Difference)\n",
    "    \n",
    "    for expr in (list(nums_perm) + list(ops_comb) for nums_perm in itertools.permutations(numbers) # for each expression in the permutations of the numbers and the product of the operators\n",
    "                 for ops_comb in itertools.product(operators, repeat=len(numbers)-1)): # and the product of the operators\n",
    "        result = evaluate_rpn(expr) # evaluate the RPN expression\n",
    "        if result is not None and isinstance(result, int):  # Check for whole number result\n",
    "            diff = abs(target - result) # calculate the difference between the target and the result\n",
    "            if diff < closest_solution[1]: # if the difference is less than the best difference\n",
    "                closest_solution = (expr, diff) # update the best difference and best expression\n",
    "            if diff == 0:  # Exact match found\n",
    "                break\n",
    "                \n",
    "    return closest_solution[0], closest_solution[1]  # Return expression and difference\n"
   ]
  },
  {
   "cell_type": "markdown",
   "metadata": {},
   "source": [
    "Let's print the resuts:"
   ]
  },
  {
   "cell_type": "code",
   "execution_count": 261,
   "metadata": {},
   "outputs": [
    {
     "name": "stdout",
     "output_type": "stream",
     "text": [
      "find_solution_functional - Time taken: 0.00 seconds\n",
      "Selected Numbers: [100, 50, 25, 5, 7, 6]\n",
      "Target Number: 143\n",
      "Exact solution found: 100 50 25 5 7 6 + + - - + = 143, which equals the target 143\n",
      "Time taken: 0.00 seconds\n"
     ]
    }
   ],
   "source": [
    "# store the results of the find_solution_functional function in the variables solution_expr, diff, functional_time\n",
    "solution_expr, diff, functional_time = find_solution_functional(numbers, target)\n",
    "\n",
    "print(\"Selected Numbers:\", numbers)\n",
    "print(\"Target Number:\", target)\n",
    "\n",
    "# Check if a solution was found and print the result. If  no exact solution is found, the closest solution will be printed.\n",
    "if solution_expr:\n",
    "    # Evaluate the found solution to get its actual result\n",
    "    solution_result = evaluate_rpn(solution_expr)\n",
    "    # Check if the solution exactly matches the target or is the closest found\n",
    "    if diff == 0:\n",
    "        print(f\"Exact solution found: {' '.join(map(str, solution_expr))} = {solution_result}, which equals the target {target}\") # use join and map to convert the expression to a string\n",
    "    else:\n",
    "        print(f\"Closest solution found: {' '.join(map(str, solution_expr))} = {solution_result}, which is {diff} away from the target {target}\") # use join and map to convert the expression to a string\n",
    "else:\n",
    "    print(\"No solution found.\") # print no solution found\n",
    "\n",
    "print(f\"Time taken: {functional_time:.2f} seconds\") # print the time taken"
   ]
  },
  {
   "cell_type": "markdown",
   "metadata": {},
   "source": [
    "# **Imperative or Functional?**"
   ]
  },
  {
   "cell_type": "markdown",
   "metadata": {},
   "source": [
    "Both the imperative and functional approaches were effective in identifying solutions or the nearest possible solutions, generally below the 30-second rule of the game. However, there were notable differences in execution times and solutions produced. Often the functional approach demonstrated a significant advantage in speed, finding the solution faster than the imperactive approach.\n",
    "\n",
    "Here is a comparison based on clarity, maintainability, and performance:\n",
    "\n",
    "- **Clarity and Maintainability**: \n",
    "    - **Functional approach** focuses on immutability, pure functions, and expressions over statements. This can lead to code that is easier to understand and maintain because it minimizes side effects, which are state changes that occur outside of function calls.\n",
    "    - **Imperative approach**, involves explicit statements to change the program state, and can sometimes be more straightforward for those used to traditional programming. However, it might become less maintainable as the complexity increases, due to the potential for side effects and state changes that are harder to track. \n",
    "\n",
    "- **Performance**: \n",
    "    - **Functional approach** has a high abstraction level that might introduce performance overhead. However, modern compilers and interpreters have become quite efficient at optimizing functional code. The declarative nature of functional programming can lead to clearer opportunities for parallel execution and optimization.\n",
    "    - **Imperative approach** can be more performance-oriented, especially for tasks requiring fine-grained control over execution and state management. For computational-heavy tasks where performance is critical, an imperative approach might offer more direct control over the optimizations."
   ]
  },
  {
   "cell_type": "markdown",
   "metadata": {},
   "source": [
    "***\n",
    "**References:**\n",
    "\n",
    "- Countdown logo: https://en.wikipedia.org/wiki/Countdown_%28game_show%29\n",
    "- Numbers Game image: https://www.youtube.com/watch?v=LaUYQOOK2Xw\n",
    "- Colton, S., 2014, April. Countdown numbers game: Solved, analysed, extended. In Proceedings of the AISB Symposium on AI and Games. https://doc.gold.ac.uk/aisb50/AISB50-S02/AISB50-S2-Colton-paper.pdf\n",
    "- Countdown (game show): https://en.wikipedia.org/wiki/Countdown_(game_show)\n",
    "- A Polish Approach to Countdown: https://www.ttested.com/polish-countdown/\n",
    "- Sugden, S. and Stocks, P., 2013. Letters and numbers: A vehicle to illustrate mathematical and computing fundamentals. In Proceedings of the 9th DELTA Conference on the Teaching and Learning of Undergraduate Mathematics and Statistics (pp. 180-189). The University of Western Sydney, School of Computing, Engineering and Mathematics.\n",
    "- Countdown Game Show solution: http://datagenetics.com/blog/august32014/index.html\n",
    "- Reverse Polish Notation: https://ianmcloughlin.github.io/reverse_polish_notation/\n",
    "- Shunting yard algorithm: https://en.wikipedia.org/wiki/Shunting_yard_algorithm\n",
    "- Functional Programming: https://realpython.com/python-functional-programming/\n"
   ]
  },
  {
   "cell_type": "markdown",
   "metadata": {},
   "source": [
    "***\n",
    "End"
   ]
  }
 ],
 "metadata": {
  "kernelspec": {
   "display_name": "Python 3",
   "language": "python",
   "name": "python3"
  },
  "language_info": {
   "codemirror_mode": {
    "name": "ipython",
    "version": 3
   },
   "file_extension": ".py",
   "mimetype": "text/x-python",
   "name": "python",
   "nbconvert_exporter": "python",
   "pygments_lexer": "ipython3",
   "version": "3.11.7"
  }
 },
 "nbformat": 4,
 "nbformat_minor": 2
}
